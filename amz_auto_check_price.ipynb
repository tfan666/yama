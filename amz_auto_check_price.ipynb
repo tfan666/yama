{
 "cells": [
  {
   "cell_type": "code",
   "execution_count": 1,
   "metadata": {},
   "outputs": [
    {
     "name": "stdout",
     "output_type": "stream",
     "text": [
      "Brother Compact Monochrome Laser Printer, HL-L2350DW, Wireless Printing, Duplex Two-Sided Printing, Amazon Dash Replenishment Ready Target Price Not Reach\n",
      "HP Pavilion Desktop PC, AMD Ryzen 7 5700G, 16 GB RAM, 512 GB SSD, Windows 11 Pro, Wi-Fi 5 & Bluetooth Connectivity, 9 USB Ports, Wired Mouse and Keyboard Combo, Pre-Built Tower (TP01-2022, 2021) Target Price Not Reach\n",
      "ASUS TUF Dash 15 (2021) Ultra Slim Gaming Laptop, 15.6” 144Hz FHD, GeForce RTX 3050 Ti, Intel Core i7-11370H, 8GB DDR4, 512GB PCIe NVMe SSD, Wi-Fi 6, Windows 10, Eclipse Grey Color, TUF516PE-AB73 Target Price Not Reach\n",
      "Acer SB220Q bi 21.5 Inches Full HD (1920 x 1080) IPS Ultra-Thin Zero Frame Monitor (HDMI & VGA Port), Black Target Price Not Reach\n",
      "Acer KA241Y bix 23.8\" Full HD (1920 x 1080) VA Monitor (HDMI & VGA port) Target Price Not Reach\n"
     ]
    }
   ],
   "source": [
    "from modules.functions import *\n",
    "\n",
    "\"\"\"\n",
    "Use following link to setup your sender pass:\n",
    "https://myaccount.google.com/lesssecureapps?pli=1&rapt=AEjHL4Pr2TAufZyoiPCL8pbhe4MCeEccRcc3YvSxuWvDh_Ok8J2XVRW-lSbZw9oc5HeCuVkX-VrS-aUCkCE_ApXjbjtmVRPoYw\n",
    "\"\"\"\n",
    "\n",
    "receiver_address = '' #e.g'franktongtim@gmail.com'\n",
    "refresh_freq_sec = 5 * 60\n",
    "sender_address = '' #e.g 'franktongtim@gmail.com'\n",
    "sender_pass = '' # gmail app password of sender address gmail, not login_in password. Use the link provided to set up \n",
    "\n",
    "\n",
    "amazon_auto_check_price(\n",
    "    receiver_address=receiver_address, \n",
    "    refresh_freq_sec=refresh_freq_sec, \n",
    "    print_record=True)\n"
   ]
  },
  {
   "cell_type": "markdown",
   "metadata": {},
   "source": []
  }
 ],
 "metadata": {
  "interpreter": {
   "hash": "b3ba2566441a7c06988d0923437866b63cedc61552a5af99d1f4fb67d367b25f"
  },
  "kernelspec": {
   "display_name": "Python 3.8.5 ('base')",
   "language": "python",
   "name": "python3"
  },
  "language_info": {
   "codemirror_mode": {
    "name": "ipython",
    "version": 3
   },
   "file_extension": ".py",
   "mimetype": "text/x-python",
   "name": "python",
   "nbconvert_exporter": "python",
   "pygments_lexer": "ipython3",
   "version": "3.8.5"
  },
  "orig_nbformat": 4
 },
 "nbformat": 4,
 "nbformat_minor": 2
}
